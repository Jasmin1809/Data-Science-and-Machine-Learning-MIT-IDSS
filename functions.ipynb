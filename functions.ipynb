{
  "nbformat": 4,
  "nbformat_minor": 0,
  "metadata": {
    "colab": {
      "provenance": [],
      "authorship_tag": "ABX9TyO+I84VxqoQtbR+0IDeS1vP",
      "include_colab_link": true
    },
    "kernelspec": {
      "name": "python3",
      "display_name": "Python 3"
    },
    "language_info": {
      "name": "python"
    }
  },
  "cells": [
    {
      "cell_type": "markdown",
      "metadata": {
        "id": "view-in-github",
        "colab_type": "text"
      },
      "source": [
        "<a href=\"https://colab.research.google.com/github/Jasmin1809/Data-Science-and-Machine-Learning-MIT-IDSS/blob/main/functions.ipynb\" target=\"_parent\"><img src=\"https://colab.research.google.com/assets/colab-badge.svg\" alt=\"Open In Colab\"/></a>"
      ]
    },
    {
      "cell_type": "code",
      "execution_count": 14,
      "metadata": {
        "colab": {
          "base_uri": "https://localhost:8080/",
          "height": 106
        },
        "id": "SV2IJPz5uo77",
        "outputId": "50bab672-644a-4a59-ee91-e3d98b88e741"
      },
      "outputs": [
        {
          "output_type": "error",
          "ename": "SyntaxError",
          "evalue": "invalid syntax (<ipython-input-14-d466ccab53fd>, line 16)",
          "traceback": [
            "\u001b[0;36m  File \u001b[0;32m\"<ipython-input-14-d466ccab53fd>\"\u001b[0;36m, line \u001b[0;32m16\u001b[0m\n\u001b[0;31m    code compare.py\u001b[0m\n\u001b[0m         ^\u001b[0m\n\u001b[0;31mSyntaxError\u001b[0m\u001b[0;31m:\u001b[0m invalid syntax\n"
          ]
        }
      ],
      "source": [
        "def main():\n",
        "  name = input(\"What is your name? \").strip().title()\n",
        "  hello(name)\n",
        "  number = int(input(\"Enter a number \"))\n",
        "  #squared(number)\n",
        "  print(f\"This number squared is {squared(number)}\")\n",
        "  #symbols >, < ,>=,<=,==,=!\n",
        "\n",
        "\n",
        "def squared(to = 0):\n",
        "  #print(f\"This number squared is {to * *2}\") #can be wrotten as to*to, to**2\n",
        "  return(to**2)\n",
        "def hello(name=\"World\"):\n",
        "  print(\"Hello \" + name)\n",
        "main()\n"
      ]
    }
  ]
}