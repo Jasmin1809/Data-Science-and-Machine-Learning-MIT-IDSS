{
  "nbformat": 4,
  "nbformat_minor": 0,
  "metadata": {
    "colab": {
      "provenance": [],
      "authorship_tag": "ABX9TyMzwgoyWqMN5KUfKNKKri0W",
      "include_colab_link": true
    },
    "kernelspec": {
      "name": "python3",
      "display_name": "Python 3"
    },
    "language_info": {
      "name": "python"
    }
  },
  "cells": [
    {
      "cell_type": "markdown",
      "metadata": {
        "id": "view-in-github",
        "colab_type": "text"
      },
      "source": [
        "<a href=\"https://colab.research.google.com/github/Jasmin1809/Data-Science-and-Machine-Learning-MIT-IDSS/blob/main/pythonfunctionsvariables.ipynb\" target=\"_parent\"><img src=\"https://colab.research.google.com/assets/colab-badge.svg\" alt=\"Open In Colab\"/></a>"
      ]
    },
    {
      "cell_type": "code",
      "execution_count": null,
      "metadata": {
        "colab": {
          "base_uri": "https://localhost:8080/"
        },
        "id": "NOzAsRCkPlcG",
        "outputId": "06417baf-4ae1-4c35-9986-7d0683ac24ed"
      },
      "outputs": [
        {
          "output_type": "stream",
          "name": "stdout",
          "text": [
            "Hi, what's your name? dr Neena\n",
            "Hi, Dr Neena\n"
          ]
        }
      ],
      "source": [
        "#taking input of a name, and then capitalizing it the correct way before printing\n",
        "name = input(\"Hi, what's your name? \")\n",
        "\"\"\"name = name.strip().capitalize()\n",
        "this does not capitalize the surname only the first word\n",
        "\"\"\"\n",
        "name =  name.strip().title()\n",
        "print(f\"Hi, {name}\")"
      ]
    },
    {
      "cell_type": "code",
      "source": [
        "#nesting functions\n",
        "#calculator\n",
        "x = int(input(\"What's x? \"))\n",
        "y = int(input(\"What's y? \"))\n",
        "\n",
        "print(f\"x + y = {x+y}\")"
      ],
      "metadata": {
        "colab": {
          "base_uri": "https://localhost:8080/"
        },
        "id": "JGtPrKl1YIyz",
        "outputId": "063977de-359c-44c9-8aa2-f4540844f321"
      },
      "execution_count": null,
      "outputs": [
        {
          "output_type": "stream",
          "name": "stdout",
          "text": [
            "What's x? 0\n",
            "What's y? 1\n",
            "x + y = 1\n"
          ]
        }
      ]
    },
    {
      "cell_type": "code",
      "source": [
        "#rounding to the nearest integer\n",
        "x = float(input(\"What's the value of x? \"))\n",
        "y = float(input(\"What's the value of y? \"))\n",
        "print(round(x+y))\n",
        "#what if we wanted the output to be formatted with commas in the USA format 1,000,000,000\n",
        "print(f\"Rounded value is {x+y:,}\")\n",
        "#division\n",
        "z = x/y\n",
        "print(f\"Quotient value is{z}\")\n",
        "print(f\"Quotient value upto two decimal points is{z:.2f}\")"
      ],
      "metadata": {
        "colab": {
          "base_uri": "https://localhost:8080/"
        },
        "id": "AjmO5jZGe1WQ",
        "outputId": "2d5d142d-8dbb-4c55-dc87-ded6bb46796e"
      },
      "execution_count": null,
      "outputs": [
        {
          "output_type": "stream",
          "name": "stdout",
          "text": [
            "What's the value of x? 5\n",
            "What's the value of y? 1\n",
            "6\n",
            "Rounded value is 6.0\n",
            "Quotient value is5.0\n",
            "Quotient value upto two decimal points is5.00\n"
          ]
        }
      ]
    },
    {
      "cell_type": "code",
      "source": [
        "\n",
        "name = input(\"What's your name? \")\n",
        "name = name.strip().title()\n",
        "def hello(to=\"world\"):\n",
        "  print(f\"Hello, {to}\")\n",
        "\n",
        "hello(name)\n"
      ],
      "metadata": {
        "colab": {
          "base_uri": "https://localhost:8080/"
        },
        "id": "EqdhiMa7lQ7I",
        "outputId": "dc941dee-c8a9-4131-e2e7-c22b2b824e3a"
      },
      "execution_count": null,
      "outputs": [
        {
          "output_type": "stream",
          "name": "stdout",
          "text": [
            "What's your name? Dr Neena\n",
            "Hello, Dr Neena\n"
          ]
        }
      ]
    }
  ]
}