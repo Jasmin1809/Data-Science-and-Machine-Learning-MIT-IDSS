{
  "nbformat": 4,
  "nbformat_minor": 0,
  "metadata": {
    "colab": {
      "provenance": []
    },
    "kernelspec": {
      "name": "python3",
      "display_name": "Python 3"
    },
    "language_info": {
      "name": "python"
    }
  },
  "cells": [
    {
      "cell_type": "code",
      "execution_count": 174,
      "metadata": {
        "id": "QtZa9QF508gV",
        "colab": {
          "base_uri": "https://localhost:8080/"
        },
        "outputId": "6fbeeed1-6249-4d3a-ebdc-cdbe7c7a7de9"
      },
      "outputs": [
        {
          "output_type": "stream",
          "name": "stdout",
          "text": [
            "The name of the company is Cars Ltd.\n",
            "The year the company was established is 1996\n"
          ]
        }
      ],
      "source": [
        "print(\"The name of the company is Cars Ltd.\")\n",
        "print(\"The year the company was established is 1996\")"
      ]
    },
    {
      "cell_type": "code",
      "source": [
        "print(\"The total turnover of the company in million $ is 12.5\")"
      ],
      "metadata": {
        "colab": {
          "base_uri": "https://localhost:8080/"
        },
        "id": "K2m0tyzRdpbF",
        "outputId": "90824ec8-eb76-4bd7-b37b-2bfe8c7adc6b"
      },
      "execution_count": 175,
      "outputs": [
        {
          "output_type": "stream",
          "name": "stdout",
          "text": [
            "The total turnover of the company in million $ is 12.5\n"
          ]
        }
      ]
    },
    {
      "cell_type": "code",
      "source": [
        "print(\"My name is Jasmin\")"
      ],
      "metadata": {
        "colab": {
          "base_uri": "https://localhost:8080/"
        },
        "id": "qD7Z3exHeXFj",
        "outputId": "b10d0240-ba1f-419a-c02b-14c3df845e64"
      },
      "execution_count": 176,
      "outputs": [
        {
          "output_type": "stream",
          "name": "stdout",
          "text": [
            "My name is Jasmin\n"
          ]
        }
      ]
    },
    {
      "cell_type": "code",
      "source": [
        "print(\"I have 2 years 3 months of teaching experience\")"
      ],
      "metadata": {
        "colab": {
          "base_uri": "https://localhost:8080/"
        },
        "id": "1k5WGfGAebbN",
        "outputId": "e4d93357-e8aa-4b95-a70f-239c79d2f627"
      },
      "execution_count": 177,
      "outputs": [
        {
          "output_type": "stream",
          "name": "stdout",
          "text": [
            "I have 2 years 3 months of teaching experience\n"
          ]
        }
      ]
    },
    {
      "cell_type": "code",
      "source": [
        "year_started=2014\n",
        "year_graduated=2016\n",
        "percentage_of_marks=69.9\n",
        "degree_obtained=\"MA Economics\"\n",
        "print('My degree ', degree_obtained, 'started in', year_started,',got completed in', year_graduated,'and I received ',percentage_of_marks,'%.')\n",
        "print('The type of degree_obtained is',type(degree_obtained),'. The type of year_started and year_graduated is',type(year_started),type(year_graduated),'respectively. The type of degree_obtained is',type(degree_obtained))\n"
      ],
      "metadata": {
        "colab": {
          "base_uri": "https://localhost:8080/"
        },
        "id": "ztvx7swrFAlg",
        "outputId": "42620984-7106-4c9d-f18d-08f5431a8fad"
      },
      "execution_count": 178,
      "outputs": [
        {
          "output_type": "stream",
          "name": "stdout",
          "text": [
            "My degree  MA Economics started in 2014 ,got completed in 2016 and I received  69.9 %.\n",
            "The type of degree_obtained is <class 'str'> . The type of year_started and year_graduated is <class 'int'> <class 'int'> respectively. The type of degree_obtained is <class 'str'>\n"
          ]
        }
      ]
    },
    {
      "cell_type": "code",
      "source": [
        "print('The type of percentage_of_marks is',type(percentage_of_marks))\n"
      ],
      "metadata": {
        "colab": {
          "base_uri": "https://localhost:8080/"
        },
        "id": "EwKVJ14hHaae",
        "outputId": "f758608b-8023-4a9e-fc01-a388e0ff61c3"
      },
      "execution_count": 179,
      "outputs": [
        {
          "output_type": "stream",
          "name": "stdout",
          "text": [
            "The type of percentage_of_marks is <class 'float'>\n"
          ]
        }
      ]
    },
    {
      "cell_type": "code",
      "source": [
        "Cars = 5\n",
        "Price_per_car= 10\n",
        "Price_final=Cars*Price_per_car\n",
        "print(Price_final)"
      ],
      "metadata": {
        "colab": {
          "base_uri": "https://localhost:8080/"
        },
        "id": "M_F53NvPOIYd",
        "outputId": "fa961a82-a8e9-4424-84e2-21d3859fae3e"
      },
      "execution_count": 180,
      "outputs": [
        {
          "output_type": "stream",
          "name": "stdout",
          "text": [
            "50\n"
          ]
        }
      ]
    },
    {
      "cell_type": "code",
      "source": [],
      "metadata": {
        "id": "wyl-LS8eOxGT"
      },
      "execution_count": 180,
      "outputs": []
    },
    {
      "cell_type": "markdown",
      "source": [
        "Price to be paid in installments in 10 years"
      ],
      "metadata": {
        "id": "0ZSkLxTBO1Pk"
      }
    },
    {
      "cell_type": "code",
      "source": [
        "Price_per_year=Price_final/10\n",
        "print(Price_per_year)"
      ],
      "metadata": {
        "colab": {
          "base_uri": "https://localhost:8080/"
        },
        "id": "0J_E9thNO54h",
        "outputId": "578a13d0-1d91-4c2e-f807-23367f5792d3"
      },
      "execution_count": 181,
      "outputs": [
        {
          "output_type": "stream",
          "name": "stdout",
          "text": [
            "5.0\n"
          ]
        }
      ]
    },
    {
      "cell_type": "markdown",
      "source": [
        "List Data Structure\n",
        "Names of students in class\n"
      ],
      "metadata": {
        "id": "fqadZJAaPoWo"
      }
    },
    {
      "cell_type": "code",
      "source": [
        "roll_1=\"Akanksha\"\n",
        "roll_2=\"Babita\"\n",
        "roll_3=\"Chahak\"\n",
        "roll_4=\"Jasmin\"\n",
        "roll_5=\"Navita\"\n",
        "print(roll_1,roll_2,roll_3,roll_4,roll_5)"
      ],
      "metadata": {
        "colab": {
          "base_uri": "https://localhost:8080/"
        },
        "id": "4Kf0oocXPuF9",
        "outputId": "b1122548-2c2b-4a77-f023-f3e737b3a463"
      },
      "execution_count": 182,
      "outputs": [
        {
          "output_type": "stream",
          "name": "stdout",
          "text": [
            "Akanksha Babita Chahak Jasmin Navita\n"
          ]
        }
      ]
    },
    {
      "cell_type": "markdown",
      "source": [],
      "metadata": {
        "id": "6buF__cJQ__q"
      }
    },
    {
      "cell_type": "markdown",
      "source": [
        "Instead of naming many variables, we can have a list. A list is a type of data structure which works in place of n number of variables."
      ],
      "metadata": {
        "id": "mTMGoXsPRE9f"
      }
    },
    {
      "cell_type": "code",
      "source": [
        "students_names=[\"Akanksha\",\"Babita\",\"Chahak\",\"Jasmin\",\"Navita\"]\n",
        "print(\"List of names of students is as follows\",students_names)\n",
        "print(\"type of students_name is\",type(students_names))"
      ],
      "metadata": {
        "colab": {
          "base_uri": "https://localhost:8080/"
        },
        "id": "O9BjHx60RSFy",
        "outputId": "ae89c58f-c120-4a77-8999-8dafc64e03f6"
      },
      "execution_count": 183,
      "outputs": [
        {
          "output_type": "stream",
          "name": "stdout",
          "text": [
            "List of names of students is as follows ['Akanksha', 'Babita', 'Chahak', 'Jasmin', 'Navita']\n",
            "type of students_name is <class 'list'>\n"
          ]
        }
      ]
    },
    {
      "cell_type": "markdown",
      "source": [
        "How to remove value from list and append value"
      ],
      "metadata": {
        "id": "Sf7RDkifZgil"
      }
    },
    {
      "cell_type": "code",
      "source": [
        "students_names.remove(\"Navita\")\n",
        "print(students_names)\n"
      ],
      "metadata": {
        "colab": {
          "base_uri": "https://localhost:8080/"
        },
        "id": "e64DrInFZkcS",
        "outputId": "1327a386-0a43-4491-f5aa-ce89b077480f"
      },
      "execution_count": 184,
      "outputs": [
        {
          "output_type": "stream",
          "name": "stdout",
          "text": [
            "['Akanksha', 'Babita', 'Chahak', 'Jasmin']\n"
          ]
        }
      ]
    },
    {
      "cell_type": "markdown",
      "source": [
        "Append value to list"
      ],
      "metadata": {
        "id": "6fz5-qKEQ-Sx"
      }
    },
    {
      "cell_type": "code",
      "source": [
        "students_names.append(\"Naina\")\n",
        "print(students_names)"
      ],
      "metadata": {
        "colab": {
          "base_uri": "https://localhost:8080/"
        },
        "id": "Kf4Svnt8Z-O0",
        "outputId": "995dbd4d-dc0f-4e0c-9242-5d5c4eba1bf5"
      },
      "execution_count": 185,
      "outputs": [
        {
          "output_type": "stream",
          "name": "stdout",
          "text": [
            "['Akanksha', 'Babita', 'Chahak', 'Jasmin', 'Naina']\n"
          ]
        }
      ]
    },
    {
      "cell_type": "code",
      "source": [
        "\n",
        "print(students_names)\n",
        "print(students_names[1])"
      ],
      "metadata": {
        "colab": {
          "base_uri": "https://localhost:8080/"
        },
        "id": "JTt9cJg5am58",
        "outputId": "41c99f00-2387-4c0c-9a1e-292a4599cce6"
      },
      "execution_count": 186,
      "outputs": [
        {
          "output_type": "stream",
          "name": "stdout",
          "text": [
            "['Akanksha', 'Babita', 'Chahak', 'Jasmin', 'Naina']\n",
            "Babita\n"
          ]
        }
      ]
    },
    {
      "cell_type": "code",
      "source": [
        "print(students_names[0])"
      ],
      "metadata": {
        "colab": {
          "base_uri": "https://localhost:8080/"
        },
        "id": "p-PCQcbqihH6",
        "outputId": "0a42d8b5-9dbe-4847-f32a-ca569a987d9b"
      },
      "execution_count": 187,
      "outputs": [
        {
          "output_type": "stream",
          "name": "stdout",
          "text": [
            "Akanksha\n"
          ]
        }
      ]
    },
    {
      "cell_type": "code",
      "source": [
        "students_names.insert(3,\"Charvi\")\n",
        "print(students_names)\n",
        "print(students_names[-2])\n",
        "print(students_names)"
      ],
      "metadata": {
        "colab": {
          "base_uri": "https://localhost:8080/"
        },
        "id": "LToUvSXvr-6D",
        "outputId": "12a31b69-4962-4aa0-d470-524d671d6249"
      },
      "execution_count": 188,
      "outputs": [
        {
          "output_type": "stream",
          "name": "stdout",
          "text": [
            "['Akanksha', 'Babita', 'Chahak', 'Charvi', 'Jasmin', 'Naina']\n",
            "Jasmin\n",
            "['Akanksha', 'Babita', 'Chahak', 'Charvi', 'Jasmin', 'Naina']\n"
          ]
        }
      ]
    },
    {
      "cell_type": "markdown",
      "source": [],
      "metadata": {
        "id": "p3qouGqO_1js"
      }
    },
    {
      "cell_type": "markdown",
      "source": [
        "Remove last element using negative indexing"
      ],
      "metadata": {
        "id": "nXdnEjPDvz9A"
      }
    },
    {
      "cell_type": "code",
      "source": [
        "students_names.remove(students_names[-1])\n",
        "print(students_names)\n",
        "print(\"Number of students in class\",len(students_names),\".Type of students_names is\",type(students_names))"
      ],
      "metadata": {
        "colab": {
          "base_uri": "https://localhost:8080/"
        },
        "id": "D27FY3W-v3CB",
        "outputId": "08e9e002-14b9-4ad8-f19b-d3adb9f3dfa1"
      },
      "execution_count": 189,
      "outputs": [
        {
          "output_type": "stream",
          "name": "stdout",
          "text": [
            "['Akanksha', 'Babita', 'Chahak', 'Charvi', 'Jasmin']\n",
            "Number of students in class 5 .Type of students_names is <class 'list'>\n"
          ]
        }
      ]
    },
    {
      "cell_type": "markdown",
      "source": [
        "print range"
      ],
      "metadata": {
        "id": "pkF3wFCkkA1t"
      }
    },
    {
      "cell_type": "code",
      "source": [],
      "metadata": {
        "id": "bhPmk_43kD2G"
      },
      "execution_count": 189,
      "outputs": []
    },
    {
      "cell_type": "markdown",
      "source": [],
      "metadata": {
        "id": "RHtk09RlkAVX"
      }
    },
    {
      "cell_type": "markdown",
      "source": [
        "Can store data in Google Drive\n",
        "input function stores strings\n",
        "How to convert"
      ],
      "metadata": {
        "id": "-2k2HwDQOI_A"
      }
    },
    {
      "cell_type": "code",
      "source": [
        "number_1=input(\"enter first number:\")\n",
        "number_2=input(\"enter second number:\")\n",
        "sum=number_1+number_2\n",
        "print(sum)"
      ],
      "metadata": {
        "id": "qn9TJ-RejQeI",
        "outputId": "8f5e1ab4-9e62-4d28-92f5-50c151ae697f",
        "colab": {
          "base_uri": "https://localhost:8080/"
        }
      },
      "execution_count": 190,
      "outputs": [
        {
          "output_type": "stream",
          "name": "stdout",
          "text": [
            "enter first number:1\n",
            "enter second number:1\n",
            "11\n"
          ]
        }
      ]
    },
    {
      "cell_type": "markdown",
      "source": [
        "Convert data type string to integer"
      ],
      "metadata": {
        "id": "G7p_YwqVWrST"
      }
    },
    {
      "cell_type": "code",
      "source": [
        "number_1=int(number_1)\n",
        "number_2=int(number_2)\n",
        "sum=number_1+number_2\n",
        "print(sum)"
      ],
      "metadata": {
        "colab": {
          "base_uri": "https://localhost:8080/"
        },
        "id": "LgOwDXeljqHx",
        "outputId": "0002a767-d8be-483a-cec9-e9f0db50aa22"
      },
      "execution_count": 191,
      "outputs": [
        {
          "output_type": "stream",
          "name": "stdout",
          "text": [
            "2\n"
          ]
        }
      ]
    },
    {
      "cell_type": "markdown",
      "source": [
        "List can have elements of different types"
      ],
      "metadata": {
        "id": "Ar8T5XPtBxds"
      }
    },
    {
      "cell_type": "code",
      "source": [
        "students_names.append(\"Zoya\")\n",
        "students_names.append(54)\n",
        "students_names.append([32,54])\n",
        "print(students_names)"
      ],
      "metadata": {
        "id": "JlY0xsJcB1TJ",
        "outputId": "9c42f9be-64d6-4989-bec9-7154c617cd01",
        "colab": {
          "base_uri": "https://localhost:8080/"
        }
      },
      "execution_count": 192,
      "outputs": [
        {
          "output_type": "stream",
          "name": "stdout",
          "text": [
            "['Akanksha', 'Babita', 'Chahak', 'Charvi', 'Jasmin', 'Zoya', 54, [32, 54]]\n"
          ]
        }
      ]
    },
    {
      "cell_type": "code",
      "source": [],
      "metadata": {
        "id": "2B9I0-pVj7DN"
      },
      "execution_count": 192,
      "outputs": []
    },
    {
      "cell_type": "markdown",
      "source": [
        "print range"
      ],
      "metadata": {
        "id": "yQ2Sw_q3j5yp"
      }
    },
    {
      "cell_type": "markdown",
      "source": [
        "Tuples, Dictionary, conditional statements. Tuples are like lists but they are immutable. Cannot be changed later. Example:append function doesn't work in them.\n",
        "syntax of tuple is {}"
      ],
      "metadata": {
        "id": "rhCw9CKc_5Dn"
      }
    },
    {
      "cell_type": "code",
      "source": [
        "students_names=(\"Akanksha\",\"Babita\",\"Chahak\",\"Charvi\",\"Naina\")\n",
        "print(students_names, \"type of students_names is :\", type(students_names))"
      ],
      "metadata": {
        "id": "RcB3eplR_4sq",
        "outputId": "f3afb3f3-6a56-4a6f-8783-ed45d85b59e3",
        "colab": {
          "base_uri": "https://localhost:8080/"
        }
      },
      "execution_count": 193,
      "outputs": [
        {
          "output_type": "stream",
          "name": "stdout",
          "text": [
            "('Akanksha', 'Babita', 'Chahak', 'Charvi', 'Naina') type of students_names is : <class 'tuple'>\n"
          ]
        }
      ]
    },
    {
      "cell_type": "code",
      "source": [
        "print(students_names[-1])"
      ],
      "metadata": {
        "id": "mGnYP2APh_Xc",
        "outputId": "ac5f30ba-8ab8-42d4-a201-171cf11b5f20",
        "colab": {
          "base_uri": "https://localhost:8080/"
        }
      },
      "execution_count": 194,
      "outputs": [
        {
          "output_type": "stream",
          "name": "stdout",
          "text": [
            "Naina\n"
          ]
        }
      ]
    },
    {
      "cell_type": "markdown",
      "source": [
        "Now working with dictionary type of Data Structure,. Syntax: Use curly brackets {}"
      ],
      "metadata": {
        "id": "5K6T-JVOC9kO"
      }
    },
    {
      "cell_type": "code",
      "source": [
        "new_dict={\"names\":students_names, \"city\":[\"Delhi\",\"Bengaluru\",\"Chennai\"],\"climate\":[\"temperate\"]}\n",
        "print(new_dict)\n",
        "print(new_dict.keys(),new_dict.values())\n",
        "print(new_dict.keys())"
      ],
      "metadata": {
        "id": "wiE7OYtZDIp7",
        "outputId": "ce75d5e8-45a0-4faa-f906-20d0d40bfffc",
        "colab": {
          "base_uri": "https://localhost:8080/"
        }
      },
      "execution_count": 195,
      "outputs": [
        {
          "output_type": "stream",
          "name": "stdout",
          "text": [
            "{'names': ('Akanksha', 'Babita', 'Chahak', 'Charvi', 'Naina'), 'city': ['Delhi', 'Bengaluru', 'Chennai'], 'climate': ['temperate']}\n",
            "dict_keys(['names', 'city', 'climate']) dict_values([('Akanksha', 'Babita', 'Chahak', 'Charvi', 'Naina'), ['Delhi', 'Bengaluru', 'Chennai'], ['temperate']])\n",
            "dict_keys(['names', 'city', 'climate'])\n"
          ]
        }
      ]
    },
    {
      "cell_type": "markdown",
      "source": [
        "Modify value"
      ],
      "metadata": {
        "id": "3jIB1mpbIknQ"
      }
    },
    {
      "cell_type": "code",
      "source": [
        "\n",
        "initial=new_dict[\"climate\"].append(\"Tarun\")\n",
        "print(initial)"
      ],
      "metadata": {
        "id": "06iQSVnuIsmA",
        "outputId": "462ce4f9-7f5c-4b91-fb77-7fc229bd63d6",
        "colab": {
          "base_uri": "https://localhost:8080/"
        }
      },
      "execution_count": 196,
      "outputs": [
        {
          "output_type": "stream",
          "name": "stdout",
          "text": [
            "None\n"
          ]
        }
      ]
    },
    {
      "cell_type": "code",
      "source": [
        "\n",
        "print(new_dict.values())\n",
        "print(new_dict)"
      ],
      "metadata": {
        "id": "ArHIiawZKpLj",
        "outputId": "d8eb571b-12d6-43e1-acd0-aedd4b3f3518",
        "colab": {
          "base_uri": "https://localhost:8080/"
        }
      },
      "execution_count": 197,
      "outputs": [
        {
          "output_type": "stream",
          "name": "stdout",
          "text": [
            "dict_values([('Akanksha', 'Babita', 'Chahak', 'Charvi', 'Naina'), ['Delhi', 'Bengaluru', 'Chennai'], ['temperate', 'Tarun']])\n",
            "{'names': ('Akanksha', 'Babita', 'Chahak', 'Charvi', 'Naina'), 'city': ['Delhi', 'Bengaluru', 'Chennai'], 'climate': ['temperate', 'Tarun']}\n"
          ]
        }
      ]
    },
    {
      "cell_type": "code",
      "source": [
        "new_dict.pop(\"climate\")\n",
        "print(new_dict)"
      ],
      "metadata": {
        "id": "PS8R7wYQie00",
        "outputId": "8fa6ffea-940f-45b9-b579-ed9c356bca02",
        "colab": {
          "base_uri": "https://localhost:8080/"
        }
      },
      "execution_count": 198,
      "outputs": [
        {
          "output_type": "stream",
          "name": "stdout",
          "text": [
            "{'names': ('Akanksha', 'Babita', 'Chahak', 'Charvi', 'Naina'), 'city': ['Delhi', 'Bengaluru', 'Chennai']}\n"
          ]
        }
      ]
    },
    {
      "cell_type": "markdown",
      "source": [
        "Conditional Statement"
      ],
      "metadata": {
        "id": "d3tRf1Pd4Dsa"
      }
    },
    {
      "cell_type": "code",
      "source": [
        "cars_ratings = {\"Santro\":32,\"Xylo\":45,\"Toofanmail\":100,\"Shatabdi\":60}\n",
        "rating=cars_ratings.values()\n",
        "print(rating)\n",
        "\n",
        "print(type(rating))\n"
      ],
      "metadata": {
        "id": "lRq8Hsfa4MRH",
        "colab": {
          "base_uri": "https://localhost:8080/"
        },
        "outputId": "fbceaf75-4421-400b-dfe3-d2a10ae07851"
      },
      "execution_count": 199,
      "outputs": [
        {
          "output_type": "stream",
          "name": "stdout",
          "text": [
            "dict_values([32, 45, 100, 60])\n",
            "<class 'dict_values'>\n"
          ]
        }
      ]
    },
    {
      "cell_type": "markdown",
      "source": [
        "function which converts ratings-dictionary values data structure to list data structure"
      ],
      "metadata": {
        "id": "eX9qI0JnSRWj"
      }
    },
    {
      "cell_type": "code",
      "source": [
        "rating=list(rating)\n",
        "print(\"list of ratings\",rating)\n",
        "print(\"type of rating data structure\",type(rating))\n",
        "cars=cars_ratings.keys()\n",
        "print(type(cars))\n",
        "car=list(cars)\n",
        "print(type(car))"
      ],
      "metadata": {
        "colab": {
          "base_uri": "https://localhost:8080/"
        },
        "id": "RDxWJbF8SZ2w",
        "outputId": "df3c0c14-cdb3-48e6-fafb-77e066734a6b"
      },
      "execution_count": 200,
      "outputs": [
        {
          "output_type": "stream",
          "name": "stdout",
          "text": [
            "list of ratings [32, 45, 100, 60]\n",
            "type of rating data structure <class 'list'>\n",
            "<class 'dict_keys'>\n",
            "<class 'list'>\n"
          ]
        }
      ]
    },
    {
      "cell_type": "code",
      "source": [
        "print(cars_ratings)\n",
        "length=len(car)\n",
        "print(length)\n",
        "print(car)\n",
        "print(range(length))\n",
        "print(car)\n",
        "for i in range(length):\n",
        "  if rating[i] >50:\n",
        "    print(car[i], \"car has rating above 50\",i)\n",
        "  elif rating[i] <50:\n",
        "    print(car[i], \"car has rating below 50\",i)\n",
        "  else :\n",
        "    print(car[i],\"car has rating of 50\",i)\n",
        "print(\"whole dictionary\",cars_ratings)"
      ],
      "metadata": {
        "colab": {
          "base_uri": "https://localhost:8080/"
        },
        "id": "4QBjinqfvfG8",
        "outputId": "dba587f5-c1ad-4d1a-a75e-1f20eed2ae1f"
      },
      "execution_count": 201,
      "outputs": [
        {
          "output_type": "stream",
          "name": "stdout",
          "text": [
            "{'Santro': 32, 'Xylo': 45, 'Toofanmail': 100, 'Shatabdi': 60}\n",
            "4\n",
            "['Santro', 'Xylo', 'Toofanmail', 'Shatabdi']\n",
            "range(0, 4)\n",
            "['Santro', 'Xylo', 'Toofanmail', 'Shatabdi']\n",
            "Santro car has rating below 50 0\n",
            "Xylo car has rating below 50 1\n",
            "Toofanmail car has rating above 50 2\n",
            "Shatabdi car has rating above 50 3\n",
            "whole dictionary {'Santro': 32, 'Xylo': 45, 'Toofanmail': 100, 'Shatabdi': 60}\n"
          ]
        }
      ]
    },
    {
      "cell_type": "markdown",
      "source": [],
      "metadata": {
        "id": "h61sY4Xl-EM9"
      }
    },
    {
      "cell_type": "markdown",
      "source": [
        "How to use f\"{}- print in common language including variables format inf string.\n",
        "This is called an f string or a formatting string"
      ],
      "metadata": {
        "id": "xwaBXHFmBh7C"
      }
    },
    {
      "cell_type": "code",
      "source": [
        "print(cars_ratings)\n",
        "length=len(car)\n",
        "print(length)\n",
        "print(car)\n",
        "print(range(length))\n",
        "print(car)\n",
        "for i in range(length):\n",
        "  if rating[i] >50:\n",
        "    print(f\"{car[i]} car has rating above 50 {i}\")\n",
        "  elif rating[i] <50:\n",
        "    print(f\"{car[i]} car has rating below 50 {i}\")\n",
        "  else :\n",
        "    print(f\"{car[i]} car has rating of 5 {i}\")\n",
        "print(\"whole dictionary\",cars_ratings)"
      ],
      "metadata": {
        "colab": {
          "base_uri": "https://localhost:8080/"
        },
        "id": "UlxgXWbiBrws",
        "outputId": "4fdd4318-195d-453e-faaf-baa497654198"
      },
      "execution_count": 202,
      "outputs": [
        {
          "output_type": "stream",
          "name": "stdout",
          "text": [
            "{'Santro': 32, 'Xylo': 45, 'Toofanmail': 100, 'Shatabdi': 60}\n",
            "4\n",
            "['Santro', 'Xylo', 'Toofanmail', 'Shatabdi']\n",
            "range(0, 4)\n",
            "['Santro', 'Xylo', 'Toofanmail', 'Shatabdi']\n",
            "Santro car has rating below 50 0\n",
            "Xylo car has rating below 50 1\n",
            "Toofanmail car has rating above 50 2\n",
            "Shatabdi car has rating above 50 3\n",
            "whole dictionary {'Santro': 32, 'Xylo': 45, 'Toofanmail': 100, 'Shatabdi': 60}\n"
          ]
        }
      ]
    },
    {
      "cell_type": "code",
      "source": [],
      "metadata": {
        "id": "yjRInWCJmGIt"
      },
      "execution_count": 202,
      "outputs": []
    },
    {
      "cell_type": "markdown",
      "source": [
        "For if loop. Body of for loop separated from rest of code using indentation"
      ],
      "metadata": {
        "id": "aDr-XwRmK0IG"
      }
    },
    {
      "cell_type": "code",
      "source": [
        "print(car)\n",
        "print(cars_ratings)\n",
        "print(rating)"
      ],
      "metadata": {
        "colab": {
          "base_uri": "https://localhost:8080/"
        },
        "id": "vVwGrgxtK7K4",
        "outputId": "c344d678-7d85-4f0b-f026-ee69119d3c9f"
      },
      "execution_count": 203,
      "outputs": [
        {
          "output_type": "stream",
          "name": "stdout",
          "text": [
            "['Santro', 'Xylo', 'Toofanmail', 'Shatabdi']\n",
            "{'Santro': 32, 'Xylo': 45, 'Toofanmail': 100, 'Shatabdi': 60}\n",
            "[32, 45, 100, 60]\n"
          ]
        }
      ]
    },
    {
      "cell_type": "code",
      "source": [
        "for ca in car:\n",
        "  if cars_ratings[ca] >50:\n",
        "    print(f\"{ca} car has rating above 50\")\n",
        "  elif cars_ratings[ca] <50:\n",
        "    print(f\"{ca} car has rating below 50\")\n",
        "  else:\n",
        "    pass\n",
        "    print(f\"{ca} car has rating of 50\")"
      ],
      "metadata": {
        "colab": {
          "base_uri": "https://localhost:8080/"
        },
        "id": "xL8WOfqTLZry",
        "outputId": "eead166f-c6d2-4bd9-b642-664350712dc2"
      },
      "execution_count": 204,
      "outputs": [
        {
          "output_type": "stream",
          "name": "stdout",
          "text": [
            "Santro car has rating below 50\n",
            "Xylo car has rating below 50\n",
            "Toofanmail car has rating above 50\n",
            "Shatabdi car has rating above 50\n"
          ]
        }
      ]
    },
    {
      "cell_type": "markdown",
      "source": [
        "Defining functions"
      ],
      "metadata": {
        "id": "2aJgdFBJZrxO"
      }
    },
    {
      "cell_type": "code",
      "source": [
        "def sum_of_numbers(num1,num2,num3,num4):\n",
        "  sum=num1+num2+num3+num4\n",
        "  return sum\n",
        "  print(\"sum of numbers\",sum)"
      ],
      "metadata": {
        "id": "YM5ekFoYZrWG"
      },
      "execution_count": 205,
      "outputs": []
    },
    {
      "cell_type": "markdown",
      "source": [
        "Defining function with unknown number of arguments"
      ],
      "metadata": {
        "id": "MlYcl__xaPDr"
      }
    },
    {
      "cell_type": "code",
      "source": [
        "\n",
        "\n",
        "def sum_of_numbers(*args):\n",
        "  sum=0\n",
        "  for i in args:\n",
        "    sum=sum+i\n",
        "  return sum"
      ],
      "metadata": {
        "id": "vgfQmmzNccyp"
      },
      "execution_count": 206,
      "outputs": []
    },
    {
      "cell_type": "markdown",
      "source": [
        "args and kwargs-arguments and keyword arguments- *args helps us remove the constraint on positional arguments- *kwargs helps us remove the constraint on keyword arguments - keyword arguments(with default values must follow positional arguments or the function won't work)"
      ],
      "metadata": {
        "id": "X75_jSMcdpes"
      }
    },
    {
      "cell_type": "code",
      "source": [
        "def sum_of_numbers(*prices, discount=0.0,**kwargs):\n",
        "  sum=0\n",
        "  for price in prices:\n",
        "    sum+=sum+price\n",
        "\n",
        "  prefinal_price=sum-(sum*discount)\n",
        "\n",
        "  net_spend=prefinal_price-kwargs(\"cashback\")\n",
        "  return net_spend\n",
        "\n",
        "additionals={\"cashback\":5}"
      ],
      "metadata": {
        "id": "FZ9hHM-7ev58"
      },
      "execution_count": 207,
      "outputs": []
    },
    {
      "cell_type": "markdown",
      "source": [
        "List comprehensions in Python"
      ],
      "metadata": {
        "id": "sQh_XhxKM_Kc"
      }
    },
    {
      "cell_type": "code",
      "source": [
        "discounted_price=[]\n",
        "for i in range(10):\n",
        "  discounted_price.append(i-(5*i/100))\n",
        "print(discounted_price)\n"
      ],
      "metadata": {
        "colab": {
          "base_uri": "https://localhost:8080/"
        },
        "id": "OTm9sRNpNDVp",
        "outputId": "da34ad2d-f491-4a22-d03d-a15d6d8e92f8"
      },
      "execution_count": 208,
      "outputs": [
        {
          "output_type": "stream",
          "name": "stdout",
          "text": [
            "[0.0, 0.95, 1.9, 2.85, 3.8, 4.75, 5.7, 6.65, 7.6, 8.55]\n"
          ]
        }
      ]
    },
    {
      "cell_type": "markdown",
      "source": [],
      "metadata": {
        "id": "CUchr7eZPHcs"
      }
    },
    {
      "cell_type": "code",
      "source": [
        "\n",
        "discounted_price=[i-(5*i/100)  for i in range(10)]\n",
        "print(discounted_price)"
      ],
      "metadata": {
        "colab": {
          "base_uri": "https://localhost:8080/"
        },
        "id": "KDkno9m1PIWS",
        "outputId": "aa229c7a-7dcb-45f3-9fb1-36b45d2da222"
      },
      "execution_count": 209,
      "outputs": [
        {
          "output_type": "stream",
          "name": "stdout",
          "text": [
            "[0.0, 0.95, 1.9, 2.85, 3.8, 4.75, 5.7, 6.65, 7.6, 8.55]\n"
          ]
        }
      ]
    },
    {
      "cell_type": "markdown",
      "source": [],
      "metadata": {
        "id": "aKqWW1pMM_xg"
      }
    },
    {
      "cell_type": "code",
      "source": [
        "budget=()\n",
        "in_budget=[\"Yes\" if  discounted_price[i]<=5 else \"No\" for i in range(10)]\n",
        "print(in_budget)"
      ],
      "metadata": {
        "colab": {
          "base_uri": "https://localhost:8080/"
        },
        "id": "XRidyqm4a3UQ",
        "outputId": "d0215c47-e5f4-4aab-af70-88fb355599d1"
      },
      "execution_count": 210,
      "outputs": [
        {
          "output_type": "stream",
          "name": "stdout",
          "text": [
            "['Yes', 'Yes', 'Yes', 'Yes', 'Yes', 'Yes', 'No', 'No', 'No', 'No']\n"
          ]
        }
      ]
    },
    {
      "cell_type": "code",
      "source": [
        "within_budget=[]\n",
        "for i in range(10):\n",
        "  if discounted_price[i]<=5:\n",
        "    within_budget.append(\"Yes\")\n",
        "  else:\n",
        "    within_budget.append(\"No\")\n",
        "print(within_budget)"
      ],
      "metadata": {
        "colab": {
          "base_uri": "https://localhost:8080/"
        },
        "id": "vP9y5Nevxgl9",
        "outputId": "7e4a87cd-5dc8-46ef-a884-05460436fb44"
      },
      "execution_count": 211,
      "outputs": [
        {
          "output_type": "stream",
          "name": "stdout",
          "text": [
            "['Yes', 'Yes', 'Yes', 'Yes', 'Yes', 'Yes', 'No', 'No', 'No', 'No']\n"
          ]
        }
      ]
    },
    {
      "cell_type": "markdown",
      "source": [
        "*functions*"
      ],
      "metadata": {
        "id": "VN2RaR7gx6F8"
      }
    },
    {
      "cell_type": "code",
      "source": [
        "def display_iphone_features(**kwargs):\n",
        "\n",
        "    print(kwargs.items())\n",
        "\n",
        "    for key, value in kwargs.items():\n",
        "      print(f\"Apple IPhone {key} is {value}\")"
      ],
      "metadata": {
        "id": "nSK6jSy0x-Uz"
      },
      "execution_count": 212,
      "outputs": []
    },
    {
      "cell_type": "code",
      "source": [
        "sample={\"model\":10,\"battery\":\"10000mAh\",\"price\":100000}\n",
        "display_iphone_features(**sample)"
      ],
      "metadata": {
        "colab": {
          "base_uri": "https://localhost:8080/"
        },
        "id": "IkkwEu-JzwJs",
        "outputId": "821d5504-5c60-4e2f-e644-2cfe5fcfe129"
      },
      "execution_count": 213,
      "outputs": [
        {
          "output_type": "stream",
          "name": "stdout",
          "text": [
            "dict_items([('model', 10), ('battery', '10000mAh'), ('price', 100000)])\n",
            "Apple IPhone model is 10\n",
            "Apple IPhone battery is 10000mAh\n",
            "Apple IPhone price is 100000\n"
          ]
        }
      ]
    },
    {
      "cell_type": "code",
      "source": [],
      "metadata": {
        "id": "prSN-meCzvi2"
      },
      "execution_count": 213,
      "outputs": []
    },
    {
      "cell_type": "markdown",
      "source": [
        "with positional arguments"
      ],
      "metadata": {
        "id": "SvD-1h5VzuEf"
      }
    },
    {
      "cell_type": "code",
      "source": [
        "def display_attributes(model,battery,price):\n",
        "  print(f\"Apple IPhone {model} is {battery} and price is {price}\")\n",
        "def disc_price(price):\n",
        "  return price-(5*price/100)\n",
        "disc_price(10)"
      ],
      "metadata": {
        "colab": {
          "base_uri": "https://localhost:8080/"
        },
        "id": "nKTnI6SR2f1X",
        "outputId": "e409c86f-6fa8-4196-9833-c3644be732ac"
      },
      "execution_count": 214,
      "outputs": [
        {
          "output_type": "execute_result",
          "data": {
            "text/plain": [
              "9.5"
            ]
          },
          "metadata": {},
          "execution_count": 214
        }
      ]
    },
    {
      "cell_type": "markdown",
      "source": [
        "lambda functions when you don't wanna define your own function, you have a small operation to do\n",
        "\n",
        "\n"
      ],
      "metadata": {
        "id": "cp0E5alZLoC-"
      }
    },
    {
      "cell_type": "code",
      "source": [
        "discount_price= lambda discount: 100-(discount*100/100)\n",
        "print(discount_price(5))"
      ],
      "metadata": {
        "colab": {
          "base_uri": "https://localhost:8080/"
        },
        "id": "l8TypX5rLmYF",
        "outputId": "0624759d-ad99-445b-dc26-2e7729d8f8cb"
      },
      "execution_count": 215,
      "outputs": [
        {
          "output_type": "stream",
          "name": "stdout",
          "text": [
            "95.0\n"
          ]
        }
      ]
    }
  ]
}